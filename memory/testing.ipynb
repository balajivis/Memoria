{
 "cells": [
  {
   "cell_type": "code",
   "execution_count": 3,
   "metadata": {},
   "outputs": [],
   "source": [
    "import base64\n",
    "from anthropic import Anthropic\n",
    "from IPython.display import Image\n",
    "\n",
    "client = Anthropic()\n",
    "MODEL_NAME = \"claude-3-opus-20240229\""
   ]
  },
  {
   "cell_type": "code",
   "execution_count": 30,
   "metadata": {},
   "outputs": [],
   "source": [
    "user_query = str(input('Enter your question or query: '))"
   ]
  },
  {
   "cell_type": "code",
   "execution_count": 31,
   "metadata": {},
   "outputs": [],
   "source": [
    "def retrieve_values_for_tools(query):\n",
    "    return f\"\"\"You are given a sentence that contains a property, and you should generate the values in the form of a list of 3 strings, where \n",
    "\n",
    "    - the first string is the property name, \n",
    "    - the second string is the type of the property (str, int) and \n",
    "    - the third string is a short 1-line description of what the property is.\n",
    "\n",
    "    Here are a couple of examples that illustrate this:\n",
    "\n",
    "    <example>\n",
    "    Sentence: \"I enjoy reading sci-fi genre books\".\n",
    "    The output: ['book_genre_interest','str','The genre of books the user enjoys.']\n",
    "    </example>\n",
    "\n",
    "    <example>\n",
    "    Sentence: \"My goal today is to ensure that I can get my bicep-workout done.\n",
    "    The output: ['today_goal','str',\"The user's goal for today\"]\n",
    "    </example>\n",
    "\n",
    "    Now perform the same action here:\n",
    "\n",
    "    Sentence: {query}\n",
    "    Output:\n",
    "    \"\"\"\n"
   ]
  },
  {
   "cell_type": "code",
   "execution_count": 33,
   "metadata": {},
   "outputs": [
    {
     "data": {
      "text/plain": [
       "'You are given a sentence that contains a property, and you should generate the values in the form of a list of 3 strings, where \\n\\n    - the first string is the property name, \\n    - the second string is the type of the property (str, int) and \\n    - the third string is a short 1-line description of what the property is.\\n\\n    Here are a couple of examples that illustrate this:\\n\\n    <example>\\n    Sentence: \"I enjoy reading sci-fi genre books\".\\n    The output: [\\'book_genre_interest\\',\\'str\\',\\'The genre of books the user enjoys.\\']\\n    </example>\\n\\n    <example>\\n    Sentence: \"My goal today is to ensure that I can get my bicep-workout done.\\n    The output: [\\'today_goal\\',\\'str\\',\"The user\\'s goal for today\"]\\n    </example>\\n\\n    Now perform the same action here:\\n\\n    Sentence: I am really looking forward to watching Oppenheimer because I enjoy Nolan\\'s movies.\\n    Output:\\n    '"
      ]
     },
     "execution_count": 33,
     "metadata": {},
     "output_type": "execute_result"
    }
   ],
   "source": [
    "retrieve_values_for_tools(user_query)"
   ]
  },
  {
   "cell_type": "markdown",
   "metadata": {},
   "source": [
    "Retrieving the list of values in order to feed into the "
   ]
  },
  {
   "cell_type": "code",
   "execution_count": 34,
   "metadata": {},
   "outputs": [
    {
     "name": "stdout",
     "output_type": "stream",
     "text": [
      "['anticipated_movie', 'str', \"The movie the user is looking forward to watching.\"]\n"
     ]
    }
   ],
   "source": [
    "response = client.messages.create(\n",
    "    model=MODEL_NAME,\n",
    "    max_tokens=2048,\n",
    "    messages=[{'role':'user','content':retrieve_values_for_tools(user_query)}],\n",
    ")\n",
    "print(response.content[0].text)"
   ]
  },
  {
   "cell_type": "code",
   "execution_count": null,
   "metadata": {},
   "outputs": [],
   "source": [
    "def claude_response()"
   ]
  }
 ],
 "metadata": {
  "kernelspec": {
   "display_name": "base",
   "language": "python",
   "name": "python3"
  },
  "language_info": {
   "codemirror_mode": {
    "name": "ipython",
    "version": 3
   },
   "file_extension": ".py",
   "mimetype": "text/x-python",
   "name": "python",
   "nbconvert_exporter": "python",
   "pygments_lexer": "ipython3",
   "version": "3.11.5"
  }
 },
 "nbformat": 4,
 "nbformat_minor": 2
}
